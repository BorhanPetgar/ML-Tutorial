{
 "cells": [
  {
   "cell_type": "code",
   "execution_count": 1,
   "id": "71b9369b",
   "metadata": {},
   "outputs": [],
   "source": [
    "import numpy as np\n",
    "import matplotlib.pyplot as plt\n",
    "import pandas as pd\n",
    "import seaborn as sns"
   ]
  },
  {
   "cell_type": "markdown",
   "id": "7a538776",
   "metadata": {},
   "source": [
    "### Notations\n",
    "- x_train: training example feature => x\n",
    "- y_train: training example target => y\n",
    "- x_i: ith training example feature\n",
    "- y_i: ith training example target\n",
    "- w,b: parameters\n",
    "- m: the number of the training examples\n",
    "- f_wb: the model => f_wb(x) = wx + b"
   ]
  }
 ],
 "metadata": {
  "kernelspec": {
   "display_name": "Python 3 (ipykernel)",
   "language": "python",
   "name": "python3"
  },
  "language_info": {
   "codemirror_mode": {
    "name": "ipython",
    "version": 3
   },
   "file_extension": ".py",
   "mimetype": "text/x-python",
   "name": "python",
   "nbconvert_exporter": "python",
   "pygments_lexer": "ipython3",
   "version": "3.9.12"
  }
 },
 "nbformat": 4,
 "nbformat_minor": 5
}
