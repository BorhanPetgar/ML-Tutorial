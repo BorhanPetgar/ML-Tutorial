{
 "cells": [
  {
   "cell_type": "code",
   "execution_count": 2,
   "id": "71b9369b",
   "metadata": {},
   "outputs": [],
   "source": [
    "import numpy as np\n",
    "import matplotlib.pyplot as plt\n",
    "import pandas as pd\n",
    "import seaborn as sns"
   ]
  },
  {
   "cell_type": "markdown",
   "id": "7a538776",
   "metadata": {},
   "source": [
    "### Notations\n",
    "- x_train: training example feature => x\n",
    "- y_train: training example target => y\n",
    "- x_i: ith training example feature\n",
    "- y_i: ith training example target\n",
    "- w,b: parameters\n",
    "- m: the number of the training examples\n",
    "- f_wb: the model => f_wb(x) = wx + b"
   ]
  },
  {
   "cell_type": "code",
   "execution_count": 20,
   "id": "c77270cd",
   "metadata": {},
   "outputs": [],
   "source": [
    "x_train = np.array([1.0, 1.7, 2.0, 2.5, 3.0, 3.2])\n",
    "y_train = np.array([250, 300, 480,  430,   630, 730,])\n",
    "m = x_train.shape[0]"
   ]
  },
  {
   "cell_type": "code",
   "execution_count": 12,
   "id": "7e3d9ae3",
   "metadata": {
    "scrolled": true
   },
   "outputs": [
    {
     "data": {
      "image/png": "[encoded data removed]",
      "text/plain": [
       "<Figure size 432x288 with 1 Axes>"
      ]
     },
     "metadata": {},
     "output_type": "display_data"
    }
   ],
   "source": [
    "sns.set()\n",
    "plt.scatter(x_train, y_train, marker='x', color='red')\n",
    "plt.xlabel('Size')\n",
    "plt.ylabel('Housing Price')\n",
    "plt.show()"
   ]
  },
  {
   "cell_type": "code",
   "execution_count": null,
   "id": "64528389",
   "metadata": {},
   "outputs": [],
   "source": []
  }
 ],
 "metadata": {
  "kernelspec": {
   "display_name": "Python 3 (ipykernel)",
   "language": "python",
   "name": "python3"
  },
  "language_info": {
   "codemirror_mode": {
    "name": "ipython",
    "version": 3
   },
   "file_extension": ".py",
   "mimetype": "text/x-python",
   "name": "python",
   "nbconvert_exporter": "python",
   "pygments_lexer": "ipython3",
   "version": "3.9.12"
  }
 },
 "nbformat": 4,
 "nbformat_minor": 5
}
